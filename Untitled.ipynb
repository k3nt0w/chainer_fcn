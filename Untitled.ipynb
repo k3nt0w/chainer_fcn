{
 "cells": [
  {
   "cell_type": "code",
   "execution_count": 1,
   "metadata": {
    "collapsed": true
   },
   "outputs": [],
   "source": [
    "import numpy as np"
   ]
  },
  {
   "cell_type": "code",
   "execution_count": 3,
   "metadata": {
    "collapsed": false
   },
   "outputs": [
    {
     "data": {
      "text/plain": [
       "array([ True, False, False, False], dtype=bool)"
      ]
     },
     "execution_count": 3,
     "metadata": {},
     "output_type": "execute_result"
    }
   ],
   "source": [
    "y = np.asarray((1,2,3,4), dtype=np.int32)"
   ]
  },
  {
   "cell_type": "code",
   "execution_count": 4,
   "metadata": {
    "collapsed": false
   },
   "outputs": [
    {
     "data": {
      "text/plain": [
       "array([ True, False, False, False], dtype=bool)"
      ]
     },
     "execution_count": 4,
     "metadata": {},
     "output_type": "execute_result"
    }
   ],
   "source": [
    "y == 1"
   ]
  },
  {
   "cell_type": "code",
   "execution_count": null,
   "metadata": {
    "collapsed": true
   },
   "outputs": [],
   "source": []
  },
  {
   "cell_type": "code",
   "execution_count": null,
   "metadata": {
    "collapsed": true
   },
   "outputs": [],
   "source": [
    "import numpy as np\n",
    "from PIL import Image\n",
    "\n",
    "def load_data(path, crop=True, size=None, mode=\"label\", xp=np):\n",
    "    img = Image.open(path)\n",
    "    if crop:\n",
    "        w,h = img.size\n",
    "        if w < h:\n",
    "            if w < size:\n",
    "                img = img.resize((size, size*h//w))\n",
    "                w, h = img.size\n",
    "        else:\n",
    "            if h < size:\n",
    "                img = img.resize((size*w//h, size))\n",
    "                w, h = img.size\n",
    "        img = img.crop((int((w-size)*0.5), int((h-size)*0.5), int((w+size)*0.5), int((h+size)*0.5)))\n",
    "\n",
    "    if mode==\"label\":\n",
    "        y = xp.asarray(img, dtype=xp.int32)\n",
    "        mask = y == 255\n",
    "        y[mask] = -1\n",
    "        return y\n",
    "\n",
    "    elif mode==\"data\":\n",
    "        x = xp.asarray(img, dtype=xp.float32).transpose(2, 0, 1)\n",
    "        #x -= 120\n",
    "        return x\n",
    "\n",
    "    elif mode==\"predict\":\n",
    "        return img"
   ]
  }
 ],
 "metadata": {
  "kernelspec": {
   "display_name": "Python 3",
   "language": "python",
   "name": "python3"
  },
  "language_info": {
   "codemirror_mode": {
    "name": "ipython",
    "version": 3
   },
   "file_extension": ".py",
   "mimetype": "text/x-python",
   "name": "python",
   "nbconvert_exporter": "python",
   "pygments_lexer": "ipython3",
   "version": "3.5.1"
  }
 },
 "nbformat": 4,
 "nbformat_minor": 0
}
